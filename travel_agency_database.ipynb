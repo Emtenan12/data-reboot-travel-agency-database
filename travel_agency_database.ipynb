{
 "cells": [
  {
   "cell_type": "markdown",
   "metadata": {
    "id": "-GZaVHIylfhC"
   },
   "source": [
    "# Travel agency\n",
    "\n"
   ]
  },
  {
   "cell_type": "markdown",
   "metadata": {
    "id": "OXuaW1Ey74eO"
   },
   "source": [
    "Today, you are working at a travel agency. All the cities covered by this agency are stored in a Python dictionary.\n",
    "\n",
    "\n",
    "They need your newly acquired Python skills to develop useful functions!"
   ]
  },
  {
   "cell_type": "markdown",
   "metadata": {
    "id": "Ot9XlCT-8d5w"
   },
   "source": [
    "## Task 1 - Get information for one city\n"
   ]
  },
  {
   "cell_type": "markdown",
   "metadata": {
    "id": "0TklkrRAl8iD"
   },
   "source": [
    "The information about a city is provided in a single dictionary. Let's take a look at an example below.\n",
    "\n",
    "Please note that:\n",
    "- `location` corresponds to latitude and longitude\n",
    "- `prefecture_level` is measured in km<sup>2</sup> (squared kilometers)"
   ]
  },
  {
   "cell_type": "code",
   "execution_count": 1,
   "metadata": {
    "execution": {
     "iopub.execute_input": "2025-09-22T10:24:14.516399Z",
     "iopub.status.busy": "2025-09-22T10:24:14.515543Z",
     "iopub.status.idle": "2025-09-22T10:24:14.526736Z",
     "shell.execute_reply": "2025-09-22T10:24:14.524383Z",
     "shell.execute_reply.started": "2025-09-22T10:24:14.516331Z"
    },
    "id": "L4hhUpgFl9Q1"
   },
   "outputs": [],
   "source": [
    "paris_city = {\"name\": \"Paris\",\n",
    "              \"total_population\": 2102650,\n",
    "              \"continent\": \"Europe\",\n",
    "              \"location\": [48.8566, 2.3522],\n",
    "              \"area\": {\n",
    "                  \"prefecture_level\": 105.4\n",
    "              }}"
   ]
  },
  {
   "cell_type": "code",
   "execution_count": 2,
   "metadata": {
    "execution": {
     "iopub.execute_input": "2025-09-22T10:24:22.628691Z",
     "iopub.status.busy": "2025-09-22T10:24:22.628112Z",
     "iopub.status.idle": "2025-09-22T10:24:22.645847Z",
     "shell.execute_reply": "2025-09-22T10:24:22.643916Z",
     "shell.execute_reply.started": "2025-09-22T10:24:22.628651Z"
    }
   },
   "outputs": [
    {
     "data": {
      "text/plain": [
       "{'name': 'Paris',\n",
       " 'total_population': 2102650,\n",
       " 'continent': 'Europe',\n",
       " 'location': [48.8566, 2.3522],\n",
       " 'area': {'prefecture_level': 105.4}}"
      ]
     },
     "execution_count": 2,
     "metadata": {},
     "output_type": "execute_result"
    }
   ],
   "source": [
    "paris_city"
   ]
  },
  {
   "cell_type": "markdown",
   "metadata": {
    "id": "x6Xa65XVAw_4"
   },
   "source": [
    "What is the data type of the value of `location`? What about `area`?\n"
   ]
  },
  {
   "cell_type": "code",
   "execution_count": 3,
   "metadata": {
    "execution": {
     "iopub.execute_input": "2025-09-22T10:24:42.684059Z",
     "iopub.status.busy": "2025-09-22T10:24:42.683381Z",
     "iopub.status.idle": "2025-09-22T10:24:42.696501Z",
     "shell.execute_reply": "2025-09-22T10:24:42.694359Z",
     "shell.execute_reply.started": "2025-09-22T10:24:42.684008Z"
    },
    "tags": [
     "challengify"
    ]
   },
   "outputs": [
    {
     "data": {
      "text/plain": [
       "dict"
      ]
     },
     "execution_count": 3,
     "metadata": {},
     "output_type": "execute_result"
    }
   ],
   "source": [
    "type(paris_city[\"location\"])\n",
    "type(paris_city[\"area\"])"
   ]
  },
  {
   "cell_type": "markdown",
   "metadata": {
    "id": "FTD6Z3lPEStU"
   },
   "source": [
    "How do we get the `prefecture_level` from `paris_city` ?\n",
    "\n",
    "\n"
   ]
  },
  {
   "cell_type": "code",
   "execution_count": 4,
   "metadata": {
    "execution": {
     "iopub.execute_input": "2025-09-22T10:24:50.308915Z",
     "iopub.status.busy": "2025-09-22T10:24:50.308204Z",
     "iopub.status.idle": "2025-09-22T10:24:50.317643Z",
     "shell.execute_reply": "2025-09-22T10:24:50.316444Z",
     "shell.execute_reply.started": "2025-09-22T10:24:50.308856Z"
    },
    "tags": [
     "challengify"
    ]
   },
   "outputs": [
    {
     "data": {
      "text/plain": [
       "105.4"
      ]
     },
     "execution_count": 4,
     "metadata": {},
     "output_type": "execute_result"
    }
   ],
   "source": [
    "paris_city[\"area\"][\"prefecture_level\"]"
   ]
  },
  {
   "cell_type": "markdown",
   "metadata": {
    "id": "0gbqOyRiEcYX"
   },
   "source": [
    "How do we get the `longitude` from `paris_city` ?\n",
    "\n"
   ]
  },
  {
   "cell_type": "code",
   "execution_count": 6,
   "metadata": {
    "execution": {
     "iopub.execute_input": "2025-09-22T10:26:53.653825Z",
     "iopub.status.busy": "2025-09-22T10:26:53.653291Z",
     "iopub.status.idle": "2025-09-22T10:26:53.661278Z",
     "shell.execute_reply": "2025-09-22T10:26:53.660215Z",
     "shell.execute_reply.started": "2025-09-22T10:26:53.653785Z"
    },
    "tags": [
     "challengify"
    ]
   },
   "outputs": [
    {
     "data": {
      "text/plain": [
       "2.3522"
      ]
     },
     "execution_count": 6,
     "metadata": {},
     "output_type": "execute_result"
    }
   ],
   "source": [
    "paris_city[\"location\"][1]"
   ]
  },
  {
   "cell_type": "markdown",
   "metadata": {
    "id": "CRhMbQ-GlfXC"
   },
   "source": [
    "### Create a function\n",
    "\n",
    "Create a function `get_key_value_from_city` that takes two arguments `city` and `key` and outputs the corresponding value for the city.\n",
    "\n",
    "\n",
    "\n",
    "__E.g__: `get_key_value_from_city(city=paris_city, key=\"total_population\")` will output 2102650\n",
    "\n",
    "\n",
    "<u>Note:</u> If a key doesn't exist, the function should return \"_\\<key\\>_ not defined\"\n",
    "    \n",
    "\n",
    "\n",
    "\n"
   ]
  },
  {
   "cell_type": "code",
   "execution_count": 7,
   "metadata": {
    "execution": {
     "iopub.execute_input": "2025-09-22T10:27:01.869722Z",
     "iopub.status.busy": "2025-09-22T10:27:01.868928Z",
     "iopub.status.idle": "2025-09-22T10:27:01.879898Z",
     "shell.execute_reply": "2025-09-22T10:27:01.877578Z",
     "shell.execute_reply.started": "2025-09-22T10:27:01.869657Z"
    },
    "tags": [
     "challengify"
    ]
   },
   "outputs": [],
   "source": [
    "def get_key_value_from_city(city, key):\n",
    "    if key in city:\n",
    "        return city[key]\n",
    "    else:\n",
    "        return f\"{key} not defined\""
   ]
  },
  {
   "cell_type": "markdown",
   "metadata": {
    "id": "T_pIQ8wW_S5k"
   },
   "source": [
    "## Task 2 - Get information for all cities\n",
    "\n"
   ]
  },
  {
   "cell_type": "markdown",
   "metadata": {
    "id": "E6npEinSHZOr"
   },
   "source": [
    "The travel agency has collected information about multiple cities where it manages accommodations.\n",
    "All the information for these cities is stored in a Python list called `cities`."
   ]
  },
  {
   "cell_type": "markdown",
   "metadata": {
    "id": "2BSHTaHyBB9g"
   },
   "source": [
    "Execute the cell below to load the data"
   ]
  },
  {
   "cell_type": "code",
   "execution_count": 8,
   "metadata": {
    "execution": {
     "iopub.execute_input": "2025-09-22T10:27:05.574954Z",
     "iopub.status.busy": "2025-09-22T10:27:05.574184Z",
     "iopub.status.idle": "2025-09-22T10:27:05.583923Z",
     "shell.execute_reply": "2025-09-22T10:27:05.582705Z",
     "shell.execute_reply.started": "2025-09-22T10:27:05.574895Z"
    }
   },
   "outputs": [],
   "source": [
    "cities = [\n",
    "    {\n",
    "        \"name\": \"Paris\",\n",
    "        \"total_population\": 2102650,\n",
    "        \"continent\": \"Europe\",\n",
    "        \"location\": [48.8566, 2.3522],\n",
    "        \"area\": {\n",
    "            \"prefecture_level\": 105.4\n",
    "        }\n",
    "    },\n",
    "    {\n",
    "        \"name\": \"Xi’an\",\n",
    "        \"total_population\": 12328000,\n",
    "        \"continent\": \"Asia\",\n",
    "        \"location\": [34.2667, 108.9000],\n",
    "        \"area\": {\n",
    "            \"prefecture_level\": 10762\n",
    "        }\n",
    "    },\n",
    "    {\n",
    "        \"name\": \"Chengdu\",\n",
    "        \"total_population\": 14645000,\n",
    "        \"continent\": \"Asia\",\n",
    "        \"location\": [30.6600, 104.0633],\n",
    "        \"area\": {\n",
    "            \"prefecture_level\": 14378\n",
    "        }\n",
    "    },\n",
    "    {\n",
    "        \"name\": \"Los Angeles\",\n",
    "        \"total_population\": 12121244,\n",
    "        \"continent\": \"North America\",\n",
    "        \"location\": [34.1141, -118.4068],\n",
    "        \"area\": {\n",
    "            \"prefecture_level\": 1299\n",
    "        }\n",
    "    },\n",
    "    {\n",
    "        \"name\": \"Brooklyn\",\n",
    "        \"total_population\": 2736074,\n",
    "        \"continent\": \"North America\",\n",
    "        \"location\": [40.6501, -73.9496],\n",
    "        \"area\": {\n",
    "            \"prefecture_level\": 180\n",
    "        }\n",
    "    }\n",
    "]"
   ]
  },
  {
   "cell_type": "markdown",
   "metadata": {
    "id": "KQGOVtGB6rAR"
   },
   "source": [
    "How many cities do they have?"
   ]
  },
  {
   "cell_type": "code",
   "execution_count": 9,
   "metadata": {
    "execution": {
     "iopub.execute_input": "2025-09-22T10:27:15.055359Z",
     "iopub.status.busy": "2025-09-22T10:27:15.054693Z",
     "iopub.status.idle": "2025-09-22T10:27:15.066633Z",
     "shell.execute_reply": "2025-09-22T10:27:15.064910Z",
     "shell.execute_reply.started": "2025-09-22T10:27:15.055307Z"
    },
    "tags": [
     "challengify"
    ]
   },
   "outputs": [
    {
     "data": {
      "text/plain": [
       "5"
      ]
     },
     "execution_count": 9,
     "metadata": {},
     "output_type": "execute_result"
    }
   ],
   "source": [
    "len(cities)"
   ]
  },
  {
   "cell_type": "markdown",
   "metadata": {
    "id": "Go4ukXAz6NkN"
   },
   "source": [
    "### Reading values\n",
    "\n"
   ]
  },
  {
   "cell_type": "markdown",
   "metadata": {
    "id": "khUbLMYTL-CN"
   },
   "source": [
    "By utilizing your previous function `get_key_value_from_city` create a new one that will take two arguments: a `city_name` and a `key`.\n",
    "\n",
    "If the city is not in the list, the function should return \"*city* doesn't exist or is not covered\".\n",
    "\n",
    "Test your function with multiple examples."
   ]
  },
  {
   "cell_type": "code",
   "execution_count": 10,
   "metadata": {
    "execution": {
     "iopub.execute_input": "2025-09-22T10:27:25.351046Z",
     "iopub.status.busy": "2025-09-22T10:27:25.350530Z",
     "iopub.status.idle": "2025-09-22T10:27:25.360387Z",
     "shell.execute_reply": "2025-09-22T10:27:25.358302Z",
     "shell.execute_reply.started": "2025-09-22T10:27:25.351004Z"
    },
    "tags": [
     "challengify"
    ]
   },
   "outputs": [],
   "source": [
    "def get_city_info(city_name, key):\n",
    "    for city in cities:\n",
    "        if city[\"name\"] == city_name:\n",
    "            return get_key_value_from_city(city, key)\n",
    "    return f\"{city_name} doesn't exist or is not covered\""
   ]
  },
  {
   "cell_type": "markdown",
   "metadata": {
    "id": "dKjDW-OY6NkN"
   },
   "source": [
    "### Updating values\n"
   ]
  },
  {
   "cell_type": "markdown",
   "metadata": {
    "id": "co-Z53zYCnAN"
   },
   "source": [
    "Sometimes, city information can be incorrect or requires updates.\n",
    "\n",
    "Create a `modify_city_key_value` function that replaces an existing key's value with a new one. \\\n",
    "It takes three arguments: a `city_name`, a `key` and a new `value` to assign to the key.\n",
    "\n",
    "The function will generate a text message indicating one of the following scenarios:\n",
    "\n",
    "- If the city doesn't exist or is not covered: \"*city* doesn't exist or is not covered.\"\n",
    "- If the provided key doesn't exist: \"*key* doesn't exist.\"\n",
    "- If the key has been successfully updated for the city: \"*key* has been updated for *city*.\""
   ]
  },
  {
   "cell_type": "code",
   "execution_count": 11,
   "metadata": {
    "execution": {
     "iopub.execute_input": "2025-09-22T10:27:43.969111Z",
     "iopub.status.busy": "2025-09-22T10:27:43.968547Z",
     "iopub.status.idle": "2025-09-22T10:27:43.978590Z",
     "shell.execute_reply": "2025-09-22T10:27:43.976647Z",
     "shell.execute_reply.started": "2025-09-22T10:27:43.969054Z"
    },
    "tags": [
     "challengify"
    ]
   },
   "outputs": [],
   "source": [
    "def modify_city_key_value(city_name, key, value):\n",
    "    for city in cities:\n",
    "        if city[\"name\"] == city_name:\n",
    "            if key in city:\n",
    "                city[key] = value\n",
    "                return f\"{key} has been updated for {city_name}.\"\n",
    "            else:\n",
    "                return f\"{key} doesn't exist.\"\n",
    "    return f\"{city_name} doesn't exist or is not covered.\""
   ]
  },
  {
   "cell_type": "markdown",
   "metadata": {
    "id": "YfHEZCpEFMi9"
   },
   "source": [
    "## Task 3 - Create a search engine"
   ]
  },
  {
   "cell_type": "markdown",
   "metadata": {
    "id": "3pKSC0beFRch"
   },
   "source": [
    "It is quite common for customers to seek destinations that are not far from their current location in order to minimize transportation costs.\n",
    "\n",
    "\n",
    "The travel agency requires your assistance in developing a function that can provide a list of nearby cities."
   ]
  },
  {
   "cell_type": "markdown",
   "metadata": {
    "id": "jaYtV0QU6NkO"
   },
   "source": [
    "### Geopy\n"
   ]
  },
  {
   "cell_type": "markdown",
   "metadata": {
    "id": "8RKP69p-FrXb"
   },
   "source": [
    "Execute the two cells below to see how we can calculate the distance between two locations. \\\n",
    "Thanks to the [Geopy](https://geopy.readthedocs.io/en/stable/#) library,  this process is quite straightforward."
   ]
  },
  {
   "cell_type": "code",
   "execution_count": 12,
   "metadata": {
    "execution": {
     "iopub.execute_input": "2025-09-22T10:27:48.961548Z",
     "iopub.status.busy": "2025-09-22T10:27:48.960735Z",
     "iopub.status.idle": "2025-09-22T10:27:53.600562Z",
     "shell.execute_reply": "2025-09-22T10:27:53.599093Z",
     "shell.execute_reply.started": "2025-09-22T10:27:48.961487Z"
    }
   },
   "outputs": [
    {
     "name": "stdout",
     "output_type": "stream",
     "text": [
      "Collecting geopy\n",
      "  Downloading geopy-2.4.1-py3-none-any.whl.metadata (6.8 kB)\n",
      "Collecting geographiclib<3,>=1.52 (from geopy)\n",
      "  Downloading geographiclib-2.1-py3-none-any.whl.metadata (1.6 kB)\n",
      "Downloading geopy-2.4.1-py3-none-any.whl (125 kB)\n",
      "Downloading geographiclib-2.1-py3-none-any.whl (40 kB)\n",
      "Installing collected packages: geographiclib, geopy\n",
      "\u001b[2K   \u001b[90m━━━━━━━━━━━━━━━━━━━━━━━━━━━━━━━━━━━━━━━━\u001b[0m \u001b[32m2/2\u001b[0m [geopy]\n",
      "\u001b[1A\u001b[2KSuccessfully installed geographiclib-2.1 geopy-2.4.1\n"
     ]
    }
   ],
   "source": [
    "!pip install geopy\n",
    "from geopy import distance"
   ]
  },
  {
   "cell_type": "code",
   "execution_count": 14,
   "metadata": {
    "execution": {
     "iopub.execute_input": "2025-09-22T10:27:56.721903Z",
     "iopub.status.busy": "2025-09-22T10:27:56.721494Z",
     "iopub.status.idle": "2025-09-22T10:27:56.728866Z",
     "shell.execute_reply": "2025-09-22T10:27:56.727419Z",
     "shell.execute_reply.started": "2025-09-22T10:27:56.721874Z"
    }
   },
   "outputs": [
    {
     "name": "stdout",
     "output_type": "stream",
     "text": [
      "866.4554329098685\n"
     ]
    }
   ],
   "source": [
    "newport_ri = [41.49008, -71.312796]\n",
    "cleveland_oh = [41.499498, -81.695391]\n",
    "\n",
    "print(distance.distance(newport_ri, cleveland_oh).km)\n"
   ]
  },
  {
   "cell_type": "markdown",
   "metadata": {
    "id": "jAqwumfvG97A"
   },
   "source": [
    "What is the data type of `distance.distance(newport_ri, cleveland_oh)`?"
   ]
  },
  {
   "cell_type": "code",
   "execution_count": 15,
   "metadata": {
    "execution": {
     "iopub.execute_input": "2025-09-22T10:28:06.603917Z",
     "iopub.status.busy": "2025-09-22T10:28:06.603324Z",
     "iopub.status.idle": "2025-09-22T10:28:06.615950Z",
     "shell.execute_reply": "2025-09-22T10:28:06.614087Z",
     "shell.execute_reply.started": "2025-09-22T10:28:06.603878Z"
    },
    "tags": [
     "challengify"
    ]
   },
   "outputs": [
    {
     "data": {
      "text/plain": [
       "geopy.distance.geodesic"
      ]
     },
     "execution_count": 15,
     "metadata": {},
     "output_type": "execute_result"
    }
   ],
   "source": [
    "type(distance.distance(newport_ri, cleveland_oh))"
   ]
  },
  {
   "cell_type": "markdown",
   "metadata": {
    "id": "OZtnw0L9HXNP"
   },
   "source": [
    "<details>\n",
    "    <summary>Answer 💡</summary>\n",
    "    \n",
    "It's a `geopy.distance.geodesic` object.\n",
    "</details>"
   ]
  },
  {
   "cell_type": "markdown",
   "metadata": {
    "id": "cUf8vO4A6NkO"
   },
   "source": [
    "### Design the search engine\n"
   ]
  },
  {
   "cell_type": "markdown",
   "metadata": {
    "id": "pk29PbbTO63S"
   },
   "source": [
    "Create a function `get_cities_nearby` that takes two arguments:\n",
    "- `customer_location`: a list of coordinates in the format [lat, long]\n",
    "\n",
    "\n",
    "- `radius`: the threshold in km\n",
    "\n",
    "And returns a `list of cities` located near the provided customer_location.\n",
    "\n",
    "If no city has been found, the function should return an empty list."
   ]
  },
  {
   "cell_type": "markdown",
   "metadata": {
    "id": "Lk7-sNiCIyWA"
   },
   "source": [
    "You can use the city of Guangyan in China (coordinates [32.4355, 105.8436]) and a radius of 500km to test your function.\n",
    "\n",
    "You should find that Xi'an and Chengdu are not very far..."
   ]
  },
  {
   "cell_type": "code",
   "execution_count": 16,
   "metadata": {
    "execution": {
     "iopub.execute_input": "2025-09-22T10:28:15.665295Z",
     "iopub.status.busy": "2025-09-22T10:28:15.664717Z",
     "iopub.status.idle": "2025-09-22T10:28:15.672187Z",
     "shell.execute_reply": "2025-09-22T10:28:15.670607Z",
     "shell.execute_reply.started": "2025-09-22T10:28:15.665246Z"
    },
    "tags": [
     "challengify"
    ]
   },
   "outputs": [],
   "source": [
    "def get_cities_nearby(customer_location, radius):\n",
    "    nearby_cities = []\n",
    "    for city in cities:\n",
    "        dist = distance.distance(customer_location, city[\"location\"]).km\n",
    "        if dist <= radius:\n",
    "            nearby_cities.append(city)\n",
    "    return nearby_cities"
   ]
  },
  {
   "cell_type": "markdown",
   "metadata": {
    "id": "iVqYzYlDJN9q"
   },
   "source": [
    "Congratulations ! 🎉 \\\n",
    "You now have a search function ready for the travel agents to use !"
   ]
  }
 ],
 "metadata": {
  "kernelspec": {
   "display_name": "Python 3 (ipykernel)",
   "language": "python",
   "name": "python3"
  },
  "language_info": {
   "codemirror_mode": {
    "name": "ipython",
    "version": 3
   },
   "file_extension": ".py",
   "mimetype": "text/x-python",
   "name": "python",
   "nbconvert_exporter": "python",
   "pygments_lexer": "ipython3",
   "version": "3.12.9"
  }
 },
 "nbformat": 4,
 "nbformat_minor": 4
}
